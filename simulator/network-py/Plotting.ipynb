{
 "cells": [
  {
   "cell_type": "code",
   "execution_count": null,
   "metadata": {},
   "outputs": [],
   "source": [
    "%load_ext autoreload\n",
    "%autoreload 2\n",
    "%pylab inline"
   ]
  },
  {
   "cell_type": "code",
   "execution_count": null,
   "metadata": {},
   "outputs": [],
   "source": [
    "import matplotlib.pyplot as plt # for plotting\n",
    "import seaborn           as sb  # for plotting\n",
    "import pandas            as pd  # for plotting adjacency matrices\n",
    "import networkx          as nx  # for plotting and pagerank\n",
    "import collections\n",
    "\n",
    "colours = [\"windows blue\", \"amber\", \"pale red\", \"greyish\", \"faded green\", \"dusty purple\", \"orange\", \"turquoise\", \"magenta\"]\n",
    "\n",
    "sb.set()\n",
    "sb.set_style(\"white\")\n",
    "sb.set_palette(sb.xkcd_palette(colours))"
   ]
  },
  {
   "cell_type": "code",
   "execution_count": null,
   "metadata": {},
   "outputs": [],
   "source": [
    "# import our simulator\n",
    "from network_simulation import *"
   ]
  },
  {
   "cell_type": "code",
   "execution_count": null,
   "metadata": {},
   "outputs": [],
   "source": [
    "# generate a network\n",
    "G, attacks, hubs, attacker = generate_graph( num_nodes         =    40\n",
    "                                           , num_hubs          =     3\n",
    "                                           , ticks             = 10000\n",
    "                                           , seed              =     5\n",
    "                                           , attacker_at_hub   = False\n",
    "                                           , attacker_activity =     0.002 # should we include attacks when we learn?\n",
    "                                           , hub_fixation      =     0\n",
    "                                           )"
   ]
  },
  {
   "cell_type": "markdown",
   "metadata": {},
   "source": [
    "We split attacks in half and attack one half in the training data, the other one we will try to detect"
   ]
  },
  {
   "cell_type": "code",
   "execution_count": null,
   "metadata": {},
   "outputs": [],
   "source": [
    "# add half of the attacks to the graph\n",
    "for (source, target) in attacks[:len(attacks)//2]:\n",
    "    w = 1\n",
    "    if (source, target) in G.edges:\n",
    "        w += G.edges[(source, target)][\"weight\"]\n",
    "    #G.add_edge(source, target, weight = w)\n",
    "\n",
    "# keep the other half for detection later\n",
    "kept_attacks = attacks[len(attacks)//2:]"
   ]
  },
  {
   "cell_type": "code",
   "execution_count": null,
   "metadata": {},
   "outputs": [],
   "source": [
    "# out of curiosity, plot the adjacency matrix\n",
    "plt.matshow(nx.adjacency_matrix(G).todense())"
   ]
  },
  {
   "cell_type": "code",
   "execution_count": null,
   "metadata": {},
   "outputs": [],
   "source": [
    "print(f\"Kept {len(kept_attacks)} attacks\")\n",
    "kept_attacks"
   ]
  },
  {
   "cell_type": "code",
   "execution_count": null,
   "metadata": {},
   "outputs": [],
   "source": [
    "print(\"hubs    \", list(hubs))\n",
    "print(\"attacker\", attacker)"
   ]
  },
  {
   "cell_type": "code",
   "execution_count": null,
   "metadata": {},
   "outputs": [],
   "source": [
    "# plot the network and mark regular nodes, hubs, and the attacker\n",
    "colours = { \"regular\"  : sb.color_palette()[0] # windows blue\n",
    "          , \"hub\"      : sb.color_palette()[1] # amber\n",
    "          , \"attacker\" : sb.color_palette()[2] # pale red\n",
    "          }\n",
    "\n",
    "pos          = { node : (G.nodes[node][\"x\"], G.nodes[node][\"y\"]) for node in G.nodes }\n",
    "node_colours = []\n",
    "for node in G.nodes:\n",
    "    if node in hubs:\n",
    "        node_colours.append(colours[\"hub\"])\n",
    "    elif node == attacker:\n",
    "        node_colours.append(colours[\"attacker\"])\n",
    "    else:\n",
    "        node_colours.append(colours[\"regular\"])\n",
    "edges        = G.edges\n",
    "weights      = [1+log(G[u][v][\"weight\"]) for u,v in edges]\n",
    "\n",
    "plt.figure(figsize=(6,6))\n",
    "nx.draw_networkx(G, pos = pos, node_color = node_colours, width = weights)"
   ]
  },
  {
   "cell_type": "code",
   "execution_count": null,
   "metadata": {},
   "outputs": [],
   "source": [
    "# plot the degrees per node\n",
    "xys = dict(G.degree)\n",
    "plt.scatter(xys.keys(), xys.values(), marker = \"x\")\n",
    "plt.hlines(average(list(xys.values())), xmin=0, xmax=len(xys))\n",
    "plt.xlim(0, len(xys))"
   ]
  },
  {
   "cell_type": "code",
   "execution_count": null,
   "metadata": {},
   "outputs": [],
   "source": [
    "# find the flow distribution with standard PageRank\n",
    "pagerank = nx.pagerank(G, alpha = 0.85)"
   ]
  },
  {
   "cell_type": "code",
   "execution_count": null,
   "metadata": {},
   "outputs": [],
   "source": [
    "# calculate the transition probabilities\n",
    "transition_probabilities = dict()\n",
    "\n",
    "for s in G.nodes:\n",
    "    transition_probabilities[s] = collections.defaultdict(float)\n",
    "    w_total = 0\n",
    "    for t in G.neighbors(s):\n",
    "        w_total += G.edges[(s,t)][\"weight\"]\n",
    "    for t in G.neighbors(s):\n",
    "        transition_probabilities[s][t] = G.edges[(s,t)][\"weight\"] / w_total"
   ]
  },
  {
   "cell_type": "code",
   "execution_count": null,
   "metadata": {},
   "outputs": [],
   "source": [
    "def do_random_walk(transition_probabilities, source, target):\n",
    "    steps = 0\n",
    "    while source != target:\n",
    "        neigbours = list(transition_probabilities[source].items())\n",
    "        source = np.random.choice( a    = [n for (n,_) in neigbours]\n",
    "                                 , size = 1\n",
    "                                 , p    = [p for (_,p) in neigbours]\n",
    "                                 )[0]\n",
    "        steps += 1\n",
    "    return steps"
   ]
  },
  {
   "cell_type": "markdown",
   "metadata": {},
   "source": [
    "Calculate all median number of steps between pairs of nodes"
   ]
  },
  {
   "cell_type": "code",
   "execution_count": null,
   "metadata": {},
   "outputs": [],
   "source": [
    "median_steps_connected    = dict()\n",
    "median_steps_disconnected = dict()\n",
    "\n",
    "for i, source in enumerate(G.nodes, start = 1):\n",
    "    print(f\"{i % 10}\", end = \"\")\n",
    "    for target in G.nodes:\n",
    "        if source != target:\n",
    "            steps = np.median([do_random_walk(transition_probabilities, source, target) for _ in range(15)])\n",
    "            if (source, target) in G.edges:\n",
    "                median_steps_connected[(source, target)]    = steps\n",
    "            else:\n",
    "                median_steps_disconnected[(source, target)] = steps"
   ]
  },
  {
   "cell_type": "markdown",
   "metadata": {},
   "source": [
    "Let's see if we can detect attacks"
   ]
  },
  {
   "cell_type": "code",
   "execution_count": null,
   "metadata": {},
   "outputs": [],
   "source": [
    "l = list(median_steps_connected.values())\n",
    "threshold = sorted(l)[:round(0.95*len(l))][-1]\n",
    "print(threshold)\n",
    "\n",
    "l2 = list(median_steps_disconnected.values())\n",
    "print(sorted(l2)[:round(0.95*len(l2))][-1])"
   ]
  },
  {
   "cell_type": "code",
   "execution_count": null,
   "metadata": {},
   "outputs": [],
   "source": [
    "median_steps_attack = []\n",
    "detected = 0\n",
    "\n",
    "for (target, attacker) in kept_attacks:\n",
    "    p = transition_probabilities[target][attacker]\n",
    "    print(f\"Attack from from {attacker} on {target}, transition probability is {p}\")\n",
    "    \n",
    "    if (target, attacker) in G.edges:\n",
    "        steps = median_steps_connected[(target, attacker)]\n",
    "    else:\n",
    "        steps = median_steps_disconnected[(target, attacker)]\n",
    "    median_steps_attack.append(steps)\n",
    "    print(f\"Median number of steps is {steps}.\", end = \"\")\n",
    "    if steps > threshold:\n",
    "        print(f\" THIS IS AN ATTACK!\")\n",
    "        detected += 1\n",
    "    else:\n",
    "        print()\n",
    "    print()\n",
    "\n",
    "print(f\"Detected {detected}/{len(kept_attacks)} attacks.\")"
   ]
  },
  {
   "cell_type": "code",
   "execution_count": null,
   "metadata": {},
   "outputs": [],
   "source": [
    "plt.figure(figsize=(16,4))\n",
    "sb.distplot(list(median_steps_connected.values()))\n",
    "sb.distplot(list(median_steps_disconnected.values()))\n",
    "sb.distplot(list(median_steps_attack))\n",
    "plt.xlim(0,150)"
   ]
  }
 ],
 "metadata": {
  "kernelspec": {
   "display_name": "Python 3",
   "language": "python",
   "name": "python3"
  },
  "language_info": {
   "codemirror_mode": {
    "name": "ipython",
    "version": 3
   },
   "file_extension": ".py",
   "mimetype": "text/x-python",
   "name": "python",
   "nbconvert_exporter": "python",
   "pygments_lexer": "ipython3",
   "version": "3.8.5"
  }
 },
 "nbformat": 4,
 "nbformat_minor": 4
}
