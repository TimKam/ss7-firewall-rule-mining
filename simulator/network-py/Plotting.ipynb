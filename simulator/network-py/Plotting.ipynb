{
 "cells": [
  {
   "cell_type": "code",
   "execution_count": null,
   "metadata": {},
   "outputs": [],
   "source": [
    "%load_ext autoreload\n",
    "%autoreload 2\n",
    "%pylab inline"
   ]
  },
  {
   "cell_type": "code",
   "execution_count": null,
   "metadata": {},
   "outputs": [],
   "source": [
    "import matplotlib.pyplot as plt # for plotting\n",
    "import seaborn           as sb  # for plotting\n",
    "import pandas            as pd  # for plotting adjacency matrices\n",
    "import networkx          as nx  # for plotting and pagerank\n",
    "import collections\n",
    "\n",
    "from multiprocessing import Pool\n",
    "\n",
    "colours = [\"windows blue\", \"amber\", \"pale red\", \"greyish\", \"faded green\", \"dusty purple\", \"orange\", \"turquoise\", \"magenta\"]\n",
    "\n",
    "sb.set()\n",
    "sb.set_style(\"white\")\n",
    "sb.set_palette(sb.xkcd_palette(colours))"
   ]
  },
  {
   "cell_type": "code",
   "execution_count": null,
   "metadata": {},
   "outputs": [],
   "source": [
    "# import our simulator\n",
    "from network_simulation import *"
   ]
  },
  {
   "cell_type": "code",
   "execution_count": null,
   "metadata": {},
   "outputs": [],
   "source": [
    "attacks_per_zone_per_day    = round(1000000000 / 40)\n",
    "attacks_per_zone_per_hour   = round(attacks_per_zone_per_day / 24)\n",
    "attacks_per_zone_per_minute = round(attacks_per_zone_per_hour / 60)\n",
    "\n",
    "the_seed = 21453\n",
    "\n",
    "# generate a network\n",
    "G, extra, attacks, hubs, attacker = \\\n",
    "    generate_graph( num_nodes              =    40\n",
    "                  , num_hubs               =     3\n",
    "                  , ticks                  = 10 * attacks_per_zone_per_minute\n",
    "                  , seed                   = the_seed\n",
    "                  , attacker_at_hub        = False\n",
    "                  , attacker_activity      =     0.0002 # should we include attacks when we learn?\n",
    "                  , hub_to_hub_probability =     0.35\n",
    "                  , hub_fixation           =     0.0\n",
    "                  )"
   ]
  },
  {
   "cell_type": "markdown",
   "metadata": {},
   "source": [
    "We split attacks in half and attack one half in the training data, the other one we will try to detect"
   ]
  },
  {
   "cell_type": "code",
   "execution_count": null,
   "metadata": {},
   "outputs": [],
   "source": [
    "# add half of the attacks to the graph\n",
    "for (source, target) in attacks[:len(attacks)//2]:\n",
    "    w = 1\n",
    "    if (source, target) in G.edges:\n",
    "        w += G.edges[(source, target)][\"weight\"]\n",
    "    G.add_edge(source, target, weight = w)\n",
    "\n",
    "# keep the other half for detection later\n",
    "kept_attacks = attacks[len(attacks)//2:]"
   ]
  },
  {
   "cell_type": "code",
   "execution_count": null,
   "metadata": {},
   "outputs": [],
   "source": [
    "# out of curiosity, plot the adjacency matrix\n",
    "plt.matshow(nx.adjacency_matrix(G).todense())"
   ]
  },
  {
   "cell_type": "code",
   "execution_count": null,
   "metadata": {},
   "outputs": [],
   "source": [
    "print(f\"Kept {len(kept_attacks)} attacks\")\n",
    "kept_attacks"
   ]
  },
  {
   "cell_type": "code",
   "execution_count": null,
   "metadata": {},
   "outputs": [],
   "source": [
    "print(\"hubs    \", list(hubs))\n",
    "print(\"attacker\", attacker)"
   ]
  },
  {
   "cell_type": "code",
   "execution_count": null,
   "metadata": {},
   "outputs": [],
   "source": [
    "# plot the network and mark regular nodes, hubs, and the attacker\n",
    "colours = { \"regular\"  : sb.color_palette()[0] # windows blue\n",
    "          , \"hub\"      : sb.color_palette()[1] # amber\n",
    "          , \"attacker\" : sb.color_palette()[2] # pale red\n",
    "          }\n",
    "\n",
    "pos          = { node : (G.nodes[node][\"x\"], G.nodes[node][\"y\"]) for node in G.nodes }\n",
    "node_colours = []\n",
    "for node in G.nodes:\n",
    "    if node in hubs:\n",
    "        node_colours.append(colours[\"hub\"])\n",
    "    elif node == attacker:\n",
    "        node_colours.append(colours[\"attacker\"])\n",
    "    else:\n",
    "        node_colours.append(colours[\"regular\"])\n",
    "edges        = G.edges\n",
    "weights      = [1+log(G[u][v][\"weight\"]) for u,v in edges]\n",
    "\n",
    "plt.figure(figsize=(8,8))\n",
    "nx.draw_networkx(G, pos = pos, node_color = node_colours, width = weights)\n",
    "plt.tight_layout()\n",
    "plt.savefig(f\"network_{the_seed}.pdf\")"
   ]
  },
  {
   "cell_type": "code",
   "execution_count": null,
   "metadata": {},
   "outputs": [],
   "source": [
    "# plot the degrees per node\n",
    "xys = dict(G.degree)\n",
    "plt.scatter(xys.keys(), xys.values(), marker = \"x\")\n",
    "plt.scatter(hubs, [xys[hub] for hub in hubs], marker = \"x\", color = sb.color_palette()[1])\n",
    "plt.scatter([attacker], [xys[attacker]], marker = \"x\", color = sb.color_palette()[2])\n",
    "plt.hlines(average(list(xys.values())), xmin=0, xmax=len(xys))\n",
    "plt.xlim(0, len(xys))"
   ]
  },
  {
   "cell_type": "code",
   "execution_count": null,
   "metadata": {},
   "outputs": [],
   "source": [
    "# find the flow distribution with standard PageRank\n",
    "pagerank = nx.pagerank(G, alpha = 0.85)"
   ]
  },
  {
   "cell_type": "code",
   "execution_count": null,
   "metadata": {},
   "outputs": [],
   "source": [
    "# plot the pagerank per node\n",
    "plt.hlines(average(list(pagerank.values())), xmin=0, xmax=len(pagerank))\n",
    "plt.scatter(pagerank.keys(), pagerank.values(), marker = \"x\", label = \"regular node\")\n",
    "plt.scatter(hubs, [pagerank[hub] for hub in hubs], marker = \"x\", color = sb.color_palette()[1], label = \"hub\")\n",
    "plt.scatter([attacker], [pagerank[attacker]], marker = \"x\", color = sb.color_palette()[2], label = \"attacker\")\n",
    "plt.xlim(0, len(xys))\n",
    "plt.xlabel(\"node\")\n",
    "plt.ylabel(\"pagerank\")\n",
    "plt.legend(bbox_to_anchor=(1, 1), loc='upper left')\n",
    "plt.savefig(f\"pagerank_{the_seed}.pdf\")"
   ]
  },
  {
   "cell_type": "code",
   "execution_count": null,
   "metadata": {},
   "outputs": [],
   "source": [
    "pagerank[attacker]"
   ]
  },
  {
   "cell_type": "code",
   "execution_count": null,
   "metadata": {},
   "outputs": [],
   "source": [
    "# calculate the transition probabilities\n",
    "transition_probabilities = dict()\n",
    "\n",
    "for s in G.nodes:\n",
    "    transition_probabilities[s] = collections.defaultdict(float)\n",
    "    w_total = 0\n",
    "    for t in G.neighbors(s):\n",
    "        w_total += G.edges[(s,t)][\"weight\"]\n",
    "    for t in G.neighbors(s):\n",
    "        transition_probabilities[s][t] = G.edges[(s,t)][\"weight\"] / w_total"
   ]
  },
  {
   "cell_type": "code",
   "execution_count": null,
   "metadata": {},
   "outputs": [],
   "source": [
    "def do_random_walk(transition_probabilities, source, target):\n",
    "    steps = 0\n",
    "    while source != target and steps < 10000:\n",
    "        neigbours = list(transition_probabilities[source].items())\n",
    "        source = np.random.choice( a    = [n for (n,_) in neigbours]\n",
    "                                 , size = 1\n",
    "                                 , p    = [p for (_,p) in neigbours]\n",
    "                                 )[0]\n",
    "        steps += 1\n",
    "    return steps"
   ]
  },
  {
   "cell_type": "markdown",
   "metadata": {},
   "source": [
    "We need to check if there is any node without incoming links, then the random walk would never converge"
   ]
  },
  {
   "cell_type": "code",
   "execution_count": null,
   "metadata": {},
   "outputs": [],
   "source": [
    "no_incoming = set(G.nodes)\n",
    "\n",
    "for source in transition_probabilities:\n",
    "    for target in transition_probabilities:\n",
    "        if target in no_incoming:\n",
    "            no_incoming.remove(target)\n",
    "\n",
    "print(f\"Nodes without incoming links: {sorted(no_incoming)}\")"
   ]
  },
  {
   "cell_type": "markdown",
   "metadata": {},
   "source": [
    "Calculate all median number of steps between pairs of nodes"
   ]
  },
  {
   "cell_type": "code",
   "execution_count": null,
   "metadata": {},
   "outputs": [],
   "source": [
    "def getMedian(sourceTarget):\n",
    "    source, target = sourceTarget\n",
    "    return ( source\n",
    "           , target\n",
    "           , np.median([do_random_walk(transition_probabilities, source, target) for _ in range(100)])\n",
    "           )"
   ]
  },
  {
   "cell_type": "code",
   "execution_count": null,
   "metadata": {},
   "outputs": [],
   "source": [
    "median_steps_connected    = dict()\n",
    "median_steps_disconnected = dict()\n",
    "\n",
    "# median number of steps for connected nodes\n",
    "pairs = list(G.edges)\n",
    "with Pool() as p:\n",
    "    medians = p.map(getMedian, pairs)\n",
    "\n",
    "for source, target, steps in medians:\n",
    "    median_steps_connected[(source, target)] = steps\n",
    "\n",
    "# median number of steps for disconnected nodes (new valid connections + attacks)\n",
    "pairs = set(kept_attacks + extra).difference(set(G.edges))\n",
    "with Pool() as p:\n",
    "    attack_medians = p.map(getMedian, pairs)\n",
    "\n",
    "for source, target, steps in attack_medians:\n",
    "    median_steps_disconnected[(source, target)] = steps"
   ]
  },
  {
   "cell_type": "markdown",
   "metadata": {},
   "source": [
    "Let's see if we can detect attacks"
   ]
  },
  {
   "cell_type": "code",
   "execution_count": null,
   "metadata": {},
   "outputs": [],
   "source": [
    "l = list(median_steps_connected.values())\n",
    "threshold = sorted(l)[:round(0.95*len(l))][-1]\n",
    "print(threshold)"
   ]
  },
  {
   "cell_type": "markdown",
   "metadata": {},
   "source": [
    "Check the extra edges"
   ]
  },
  {
   "cell_type": "code",
   "execution_count": null,
   "metadata": {},
   "outputs": [],
   "source": [
    "tn = 0\n",
    "fp = 0\n",
    "\n",
    "for (source, target) in extra:\n",
    "    if (source, target) in G.edges:\n",
    "        steps = median_steps_connected[(source, target)]\n",
    "    else:\n",
    "        steps = median_steps_disconnected[(source, target)]\n",
    "    \n",
    "    if steps > threshold:\n",
    "        fp += 1\n",
    "    else:\n",
    "        tn += 1\n",
    "\n",
    "print(f\"Detected {fp}/{len(extra)} as attacks.\")"
   ]
  },
  {
   "cell_type": "code",
   "execution_count": null,
   "metadata": {},
   "outputs": [],
   "source": [
    "tp = 0\n",
    "fn = 0\n",
    "\n",
    "median_steps_attack = list()\n",
    "\n",
    "for (target, attacker) in kept_attacks:\n",
    "    p = transition_probabilities[target][attacker]\n",
    "    \n",
    "    if (target, attacker) in G.edges:\n",
    "        steps = median_steps_connected[(target, attacker)]\n",
    "    else:\n",
    "        steps = median_steps_disconnected[(target, attacker)]\n",
    "    median_steps_attack.append(steps)\n",
    "\n",
    "    if steps > threshold:\n",
    "        tp += 1\n",
    "    else:\n",
    "        fn += 1\n",
    "\n",
    "print(f\"Detected {tp}/{len(kept_attacks)} attacks.\")"
   ]
  },
  {
   "cell_type": "markdown",
   "metadata": {},
   "source": [
    "Check the F1 score"
   ]
  },
  {
   "cell_type": "code",
   "execution_count": null,
   "metadata": {},
   "outputs": [],
   "source": [
    "print(f\"TP: {tp}\")\n",
    "print(f\"TN: {tn}\")\n",
    "print(f\"FP: {fp}\")\n",
    "print(f\"FN: {fn}\")\n",
    "print(f\"Precision: {tp / (tp + fp)}\")\n",
    "print(f\"Recall: {tp / (tp + fn)}\")\n",
    "print(f\"F1 score: {tp / (tp + 0.5 * (fp + fn))}\")"
   ]
  },
  {
   "cell_type": "code",
   "execution_count": null,
   "metadata": {},
   "outputs": [],
   "source": [
    "plt.figure(figsize=(16,4))\n",
    "sb.histplot(list(median_steps_connected.values()), color = sb.color_palette()[0])\n",
    "sb.histplot(list(median_steps_attack), color = sb.color_palette()[2])\n",
    "xmin, xmax = plt.xlim()\n",
    "ymin, ymax = plt.ylim()\n",
    "plt.vlines(threshold, ymin, ymax, color = sb.color_palette()[0])\n",
    "plt.xlim(0,xmax)\n",
    "plt.ylim(ymin, ymax)"
   ]
  },
  {
   "cell_type": "code",
   "execution_count": null,
   "metadata": {},
   "outputs": [],
   "source": []
  }
 ],
 "metadata": {
  "kernelspec": {
   "display_name": "Python 3",
   "language": "python",
   "name": "python3"
  },
  "language_info": {
   "codemirror_mode": {
    "name": "ipython",
    "version": 3
   },
   "file_extension": ".py",
   "mimetype": "text/x-python",
   "name": "python",
   "nbconvert_exporter": "python",
   "pygments_lexer": "ipython3",
   "version": "3.8.0"
  }
 },
 "nbformat": 4,
 "nbformat_minor": 4
}
