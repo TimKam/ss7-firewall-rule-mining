{
 "cells": [
  {
   "cell_type": "code",
   "execution_count": null,
   "metadata": {},
   "outputs": [],
   "source": [
    "%load_ext autoreload\n",
    "%autoreload 2\n",
    "%pylab inline"
   ]
  },
  {
   "cell_type": "code",
   "execution_count": null,
   "metadata": {},
   "outputs": [],
   "source": [
    "import matplotlib.pyplot as plt\n",
    "import seaborn           as sb\n",
    "import pandas            as pd\n",
    "\n",
    "colours = [\"windows blue\", \"amber\", \"pale red\", \"greyish\", \"faded green\", \"dusty purple\", \"orange\", \"turquoise\", \"magenta\"]\n",
    "\n",
    "sb.set()\n",
    "sb.set_style(\"white\")\n",
    "sb.set_palette(sb.xkcd_palette(colours))"
   ]
  },
  {
   "cell_type": "code",
   "execution_count": null,
   "metadata": {},
   "outputs": [],
   "source": [
    "from network_simulation import *"
   ]
  },
  {
   "cell_type": "code",
   "execution_count": null,
   "metadata": {},
   "outputs": [],
   "source": [
    "!pip3 install --upgrade infomap"
   ]
  },
  {
   "cell_type": "code",
   "execution_count": null,
   "metadata": {},
   "outputs": [],
   "source": [
    "import infomap"
   ]
  },
  {
   "cell_type": "code",
   "execution_count": null,
   "metadata": {},
   "outputs": [],
   "source": [
    "# generate a network\n",
    "G, hubs, attacker = generate_graph( num_nodes         =  40\n",
    "                                  , num_hubs          =   3\n",
    "                                  , ticks             = 250\n",
    "                                  , seed              =   0\n",
    "                                  , attacker_at_hub   = False\n",
    "                                  , attacker_activity = 0.05\n",
    "                                  , hub_fixation      = 0.25\n",
    "                                  )"
   ]
  },
  {
   "cell_type": "code",
   "execution_count": null,
   "metadata": {},
   "outputs": [],
   "source": [
    "# save the network to network.net\n",
    "with open(\"network.net\", \"w\") as fh:\n",
    "    fh.write(serialise_graph(G, hubs, attacker))"
   ]
  },
  {
   "cell_type": "code",
   "execution_count": null,
   "metadata": {},
   "outputs": [],
   "source": [
    "plt.matshow(networkx.adjacency_matrix(G).todense())"
   ]
  },
  {
   "cell_type": "code",
   "execution_count": null,
   "metadata": {},
   "outputs": [],
   "source": [
    "print(\"hubs    \", list(hubs))\n",
    "print(\"attacker\", attacker)"
   ]
  },
  {
   "cell_type": "code",
   "execution_count": null,
   "metadata": {},
   "outputs": [],
   "source": [
    "colours = { \"regular\"  : sb.color_palette()[0] # windows blue\n",
    "          , \"hub\"      : sb.color_palette()[1] # amber\n",
    "          , \"attacker\" : sb.color_palette()[2] # pale red\n",
    "          }\n",
    "\n",
    "pos          = { node : (G.nodes[node][\"x\"], G.nodes[node][\"y\"]) for node in G.nodes }\n",
    "node_colours = []\n",
    "for node in G.nodes:\n",
    "    if node in hubs:\n",
    "        node_colours.append(colours[\"hub\"])\n",
    "    elif node == attacker:\n",
    "        node_colours.append(colours[\"attacker\"])\n",
    "    else:\n",
    "        node_colours.append(colours[\"regular\"])\n",
    "edges        = G.edges\n",
    "weights      = [1+log(G[u][v][\"weight\"]) for u,v in edges]\n",
    "\n",
    "plt.figure(figsize=(6,6))\n",
    "networkx.draw_networkx(G, pos = pos, node_color = node_colours, width = weights)"
   ]
  },
  {
   "cell_type": "code",
   "execution_count": null,
   "metadata": {},
   "outputs": [],
   "source": [
    "# plot the degrees per node\n",
    "xys = dict(G.degree)\n",
    "plt.scatter(xys.keys(), xys.values(), marker = \"x\")\n",
    "plt.hlines(average(list(xys.values())), xmin=0, xmax=len(xys))\n",
    "plt.xlim(0, len(xys))"
   ]
  },
  {
   "cell_type": "code",
   "execution_count": null,
   "metadata": {},
   "outputs": [],
   "source": [
    "# run infomap\n",
    "im = infomap.Infomap()\n",
    "for (u,v) in G.edges:\n",
    "    im.add_link(u, v, G.edges[(u,v)][\"weight\"])\n",
    "im.run()"
   ]
  },
  {
   "cell_type": "code",
   "execution_count": null,
   "metadata": {},
   "outputs": [],
   "source": [
    "# print the cluster structure and mark the attacker\n",
    "for node in im.tree:\n",
    "    if node.is_leaf:\n",
    "        if node.node_id == attacker:\n",
    "            print(\">> \", end=\"\")\n",
    "        print(f\"{node.node_id} {node.module_id} {node.flow:0.2f}\")"
   ]
  }
 ],
 "metadata": {
  "kernelspec": {
   "display_name": "Python 3",
   "language": "python",
   "name": "python3"
  },
  "language_info": {
   "codemirror_mode": {
    "name": "ipython",
    "version": 3
   },
   "file_extension": ".py",
   "mimetype": "text/x-python",
   "name": "python",
   "nbconvert_exporter": "python",
   "pygments_lexer": "ipython3",
   "version": "3.8.5"
  }
 },
 "nbformat": 4,
 "nbformat_minor": 4
}
