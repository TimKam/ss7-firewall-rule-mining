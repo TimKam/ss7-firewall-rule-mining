{
 "cells": [
  {
   "cell_type": "markdown",
   "metadata": {},
   "source": [
    "# Setup and imports"
   ]
  },
  {
   "cell_type": "code",
   "execution_count": 40,
   "metadata": {},
   "outputs": [],
   "source": [
    "import matplotlib.pyplot as plt\n",
    "import seaborn           as sb\n",
    "import pandas            as pd\n",
    "\n",
    "colours = [\"windows blue\", \"amber\", \"pale red\", \"greyish\", \"faded green\", \"dusty purple\", \"orange\", \"turquoise\", \"magenta\"]\n",
    "\n",
    "sb.set()\n",
    "sb.set_style(\"white\")\n",
    "sb.set_palette(sb.xkcd_palette(colours))"
   ]
  },
  {
   "cell_type": "code",
   "execution_count": 1,
   "metadata": {},
   "outputs": [],
   "source": [
    "from json     import loads\n",
    "from numpy    import zeros, ones"
   ]
  },
  {
   "cell_type": "markdown",
   "metadata": {},
   "source": [
    "# Functions"
   ]
  },
  {
   "cell_type": "code",
   "execution_count": 2,
   "metadata": {},
   "outputs": [],
   "source": [
    "def left(x,y,gridBounds):\n",
    "    return (x-1,y) if x > 0 else (x,y)\n",
    "\n",
    "def right(x,y,gridBounds):\n",
    "    return (x+1,y) if x+1 < gridBounds[0] else (x,y)\n",
    "\n",
    "def above(x,y,gridBounds):\n",
    "    return (x,y-1) if y > 0 else (x,y)\n",
    "\n",
    "def below(x,y,gridBounds):\n",
    "    return (x,y+1) if y+1 < gridBounds[1] else (x,y)"
   ]
  },
  {
   "cell_type": "code",
   "execution_count": 3,
   "metadata": {},
   "outputs": [],
   "source": [
    "# Load the model and client logs from a json file\n",
    "def loadData(filename):\n",
    "    with open(filename, \"r\") as fh:\n",
    "        data = loads(fh.read())\n",
    "\n",
    "    # build the world model\n",
    "    model = data[\"zones\"]\n",
    "\n",
    "    # determine grid size\n",
    "    xmax  = ymax = 0\n",
    "    zones = dict()\n",
    "\n",
    "    for zone in model:\n",
    "        zoneID = model[zone][\"id\"]\n",
    "        zones[zoneID] = 0\n",
    "        for cell in model[zone][\"cells\"]:\n",
    "            zones[zoneID] += 1\n",
    "            xmax = max(xmax, cell[\"x\"])\n",
    "            ymax = max(ymax, cell[\"y\"])\n",
    "\n",
    "    # represent the cells in a numpy array\n",
    "    gridBounds = (xmax+1, ymax+1)\n",
    "    gridSize   = (xmax+1)*(ymax+1)\n",
    "    grid       = zeros(gridBounds, dtype=object)\n",
    "\n",
    "    for zone in model:\n",
    "        zoneID = model[zone][\"id\"]\n",
    "        for cell in model[zone][\"cells\"]:\n",
    "            grid[cell[\"x\"],cell[\"y\"]] = zoneID\n",
    "\n",
    "    # load client logs\n",
    "    logs    = []\n",
    "    clients = data[\"clients\"]\n",
    "\n",
    "    for client in clients:\n",
    "        log = []\n",
    "        t, zone = 0, clients[client][\"positions\"][0]\n",
    "        log.append(dict(timestamp=t, zone=zone))\n",
    "        for position in clients[client][\"positions\"]:\n",
    "            t += 1\n",
    "            if position != zone:\n",
    "                zone = position\n",
    "                log.append(dict(timestamp=t, zone=zone))\n",
    "        logs.append(log)\n",
    "\n",
    "    return dict( grid  = grid\n",
    "               , zones = zones\n",
    "               , logs  = logs\n",
    "               )"
   ]
  },
  {
   "cell_type": "code",
   "execution_count": 4,
   "metadata": {},
   "outputs": [],
   "source": [
    "# Propagate belief using the prior and probabi\n",
    "def propagate(prior, p, q):\n",
    "    posterior = zeros(prior.shape)\n",
    "    for y in range(prior.shape[1]):\n",
    "        for x in range(prior.shape[0]):\n",
    "            posterior[(x,y)] += p * prior[(x,y)]\n",
    "\n",
    "            neighbours = set()\n",
    "            if left(x,y,prior.shape) != (x,y):\n",
    "                neighbours.add(left(x,y,prior.shape))\n",
    "            if right(x,y,prior.shape) != (x,y):\n",
    "                neighbours.add(right(x,y,prior.shape))\n",
    "            if above(x,y,prior.shape) != (x,y):\n",
    "                neighbours.add(above(x,y,prior.shape))\n",
    "            if below(x,y,prior.shape) != (x,y):\n",
    "                neighbours.add(below(x,y,prior.shape))\n",
    "\n",
    "            for cell in neighbours:\n",
    "                posterior[cell] += (1-p)/len(neighbours) * prior[(x,y)]\n",
    "    return posterior"
   ]
  },
  {
   "cell_type": "code",
   "execution_count": 59,
   "metadata": {},
   "outputs": [],
   "source": [
    "def plotLikelihood(likelihood):\n",
    "    sb.heatmap(likelihood.T)\n",
    "    plt.xticks([])\n",
    "    plt.yticks([])\n",
    "    plt.show()"
   ]
  },
  {
   "cell_type": "code",
   "execution_count": 38,
   "metadata": {},
   "outputs": [],
   "source": [
    "p = 0.5\n",
    "threshold = 1/25"
   ]
  },
  {
   "cell_type": "code",
   "execution_count": 6,
   "metadata": {},
   "outputs": [],
   "source": [
    "data = loadData(\"data/20x20.json\")\n",
    "grid = data[\"grid\"]\n",
    "logs = data[\"logs\"]"
   ]
  },
  {
   "cell_type": "code",
   "execution_count": 61,
   "metadata": {
    "scrolled": false
   },
   "outputs": [
    {
     "name": "stdout",
     "output_type": "stream",
     "text": [
      "[DEBUG] Running simulation for client 0\n",
      "[DEBUG] t=0, zone=zone-1\n",
      "[INFO ] t=27, zone=zone-2. Zone change ok, likelihood is 0.24\n",
      "\n",
      "[DEBUG] Running simulation for client 1\n",
      "[DEBUG] t=0, zone=zone-1\n",
      "[DEBUG] Running simulation for client 2\n",
      "[DEBUG] t=0, zone=zone-1\n",
      "[INFO ] t=3, zone=zone-2. Zone change ok, likelihood is 0.08\n",
      "\n",
      "[INFO ] t=7, zone=zone-1. Zone change ok, likelihood is 0.27\n",
      "\n",
      "[INFO ] t=15, zone=zone-2. Zone change ok, likelihood is 0.31\n",
      "\n",
      "[INFO ] t=22, zone=zone-1. Zone change ok, likelihood is 0.26\n",
      "\n",
      "[DEBUG] Running simulation for client 3\n",
      "[DEBUG] t=0, zone=zone-1\n",
      "[INFO ] t=2, zone=zone-2. Zone change ok, likelihood is 0.06\n",
      "\n",
      "[INFO ] t=12, zone=zone-1. Zone change ok, likelihood is 0.36\n",
      "\n",
      "[DEBUG] Running simulation for client 4\n",
      "[DEBUG] t=0, zone=zone-1\n",
      "[INFO ] t=5, zone=zone-2. Zone change ok, likelihood is 0.10\n",
      "\n",
      "[INFO ] t=19, zone=zone-1. Zone change ok, likelihood is 0.34\n",
      "\n",
      "[DEBUG] Running simulation for client 5\n",
      "[DEBUG] t=0, zone=zone-2\n",
      "[INFO ] t=5, zone=zone-1. Zone change ok, likelihood is 0.08\n",
      "\n",
      "[DEBUG] Running simulation for client 6\n",
      "[DEBUG] t=0, zone=zone-2\n",
      "[INFO ] t=7, zone=zone-1. Zone change ok, likelihood is 0.10\n",
      "\n",
      "[DEBUG] Running simulation for client 7\n",
      "[DEBUG] t=0, zone=zone-2\n",
      "[DEBUG] Running simulation for client 8\n",
      "[DEBUG] t=0, zone=zone-3\n",
      "[DEBUG] Running simulation for client 9\n",
      "[DEBUG] t=0, zone=zone-3\n",
      "[INFO ] Anomaly detected! Likelihood of zone=zone-2 at t=2 is 0.03!\n"
     ]
    },
    {
     "data": {
      "image/png": "[encoded data removed]",
      "text/plain": [
       "<Figure size 432x288 with 2 Axes>"
      ]
     },
     "metadata": {},
     "output_type": "display_data"
    },
    {
     "name": "stdout",
     "output_type": "stream",
     "text": [
      "\n",
      "\n"
     ]
    }
   ],
   "source": [
    "# run simulation for each client\n",
    "for clientID, log in enumerate(logs):\n",
    "    print(\"[DEBUG] Running simulation for client {:}\".format(clientID))\n",
    "    # initialise time and location\n",
    "    t, zone = log[0][\"timestamp\"], log[0][\"zone\"]\n",
    "    belief = (grid == zone).astype(int)\n",
    "    belief = belief / belief.sum()\n",
    "    print(\"[DEBUG] t={:}, zone={:}\".format(t, zone))\n",
    "\n",
    "    # propagate location through time and check if updates match with estimation\n",
    "    for entry in log[1:]:\n",
    "        while t < entry[\"timestamp\"]:\n",
    "            t += 1\n",
    "            belief = propagate(belief, p, (1-p)/4)\n",
    "        newZone = entry[\"zone\"]\n",
    "        \n",
    "        if newZone != zone:\n",
    "            # how likely is it that the client is actually in the new zone?\n",
    "            likelihood = belief*(grid == newZone).astype(int)\n",
    "            if likelihood.sum() < threshold:\n",
    "                print(\"[INFO ] Anomaly detected! Likelihood of zone={:} at t={:} is {:.2f}!\".format(newZone, t, likelihood.sum()))\n",
    "                plotLikelihood(belief)\n",
    "            else:\n",
    "                zone = newZone\n",
    "                print(\"[INFO ] t={:}, zone={:}. Zone change ok, likelihood is {:.2f}\".format(t, zone, likelihood.sum()))\n",
    "                belief = likelihood / likelihood.sum()\n",
    "                \n",
    "        print()"
   ]
  },
  {
   "cell_type": "code",
   "execution_count": null,
   "metadata": {},
   "outputs": [],
   "source": []
  }
 ],
 "metadata": {
  "kernelspec": {
   "display_name": "Python 3",
   "language": "python",
   "name": "python3"
  },
  "language_info": {
   "codemirror_mode": {
    "name": "ipython",
    "version": 3
   },
   "file_extension": ".py",
   "mimetype": "text/x-python",
   "name": "python",
   "nbconvert_exporter": "python",
   "pygments_lexer": "ipython3",
   "version": "3.6.9"
  }
 },
 "nbformat": 4,
 "nbformat_minor": 2
}
