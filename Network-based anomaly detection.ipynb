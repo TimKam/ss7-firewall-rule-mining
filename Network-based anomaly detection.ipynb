{
 "cells": [
  {
   "cell_type": "markdown",
   "metadata": {},
   "source": [
    "# Setup and imports"
   ]
  },
  {
   "cell_type": "code",
   "execution_count": null,
   "metadata": {},
   "outputs": [],
   "source": [
    "%load_ext autoreload\n",
    "%autoreload 2\n",
    "%pylab inline"
   ]
  },
  {
   "cell_type": "code",
   "execution_count": null,
   "metadata": {},
   "outputs": [],
   "source": [
    "import matplotlib.pyplot as plt\n",
    "import seaborn           as sb\n",
    "import pandas            as pd\n",
    "\n",
    "sb.set()\n",
    "sb.set_style(\"white\")"
   ]
  },
  {
   "cell_type": "code",
   "execution_count": null,
   "metadata": {},
   "outputs": [],
   "source": [
    "import json\n",
    "import networkx as nx\n",
    "import graph_tool as gt\n",
    "import numpy as np\n",
    "\n",
    "from graph_tool.inference import minimize_nested_blockmodel_dl\n",
    "from infomap import Infomap"
   ]
  },
  {
   "cell_type": "markdown",
   "metadata": {},
   "source": [
    "# Function definitions"
   ]
  },
  {
   "cell_type": "code",
   "execution_count": null,
   "metadata": {},
   "outputs": [],
   "source": [
    "# Loads a network from the given file and returns it as a networkx network.\n",
    "def loadNetwork(filename):\n",
    "    with open(filename) as fh:\n",
    "        data = json.loads(fh.read())\n",
    "        \n",
    "    G = nx.DiGraph()\n",
    "\n",
    "    for n in data[\"nodes\"]:\n",
    "        G.add_node(int(n[\"data\"][\"id\"]))\n",
    "\n",
    "    for k in data[\"edges\"]:\n",
    "        e = data[\"edges\"][k]\n",
    "        if \"source\" in e[\"data\"] and \"target\" in e[\"data\"]:\n",
    "            u,v,w = e[\"data\"][\"source\"], e[\"data\"][\"target\"], e[\"style\"][\"width\"]\n",
    "            G.add_edge(int(u), int(v), weight = float(w))\n",
    "    \n",
    "    return G"
   ]
  },
  {
   "cell_type": "code",
   "execution_count": null,
   "metadata": {},
   "outputs": [],
   "source": [
    "# Saves the given network in net format for Infomap\n",
    "def toNet(G, filename):\n",
    "    with open(filename, \"w\") as fh:\n",
    "        fh.write(\"*Vertices {:}\\n\".format(len(G.nodes)))\n",
    "        for n in G.nodes:\n",
    "            fh.write(\"{:} \\\"{:}\\\"\\n\".format(n, n))\n",
    "        fh.write(\"*Edges {:}\\n\".format(len(G.edges)))\n",
    "        for u,v in G.edges:\n",
    "            fh.write(\"{:} {:} {:}\\n\".format(u, v, G[u][v][\"weight\"]))"
   ]
  },
  {
   "cell_type": "code",
   "execution_count": null,
   "metadata": {},
   "outputs": [],
   "source": [
    "# Plots a networkx network\n",
    "def plotNetwork(G):\n",
    "    weights = [G[u][v][\"weight\"] for u,v in G.edges]\n",
    "    labels  = dict([(n, str(n)) for n in G.nodes])\n",
    "    pos     = nx.kamada_kawai_layout(G)\n",
    "\n",
    "    nx.draw(G, pos, width = weights)\n",
    "    nx.draw_networkx_labels(G, pos, labels, font_size=8)\n",
    "    plt.show()"
   ]
  },
  {
   "cell_type": "code",
   "execution_count": null,
   "metadata": {},
   "outputs": [],
   "source": [
    "# Takes a networkx network and converts it to a graph-tool network\n",
    "def toGraphTool(G):\n",
    "    H = gt.Graph(directed = False)\n",
    "    node_labels  = H.new_vertex_property(\"string\")\n",
    "    edge_weights = H.new_edge_property(\"double\")\n",
    "    H.edge_properties[\"weight\"] = edge_weights\n",
    "    num_vertices = len(G.nodes)\n",
    "    for n in G.nodes:\n",
    "        node_labels[n] = str(n)\n",
    "    for u,v in G.edges:\n",
    "        e = H.add_edge(u, v)\n",
    "        edge_weights[e] = G[u][v][\"weight\"]\n",
    "    H.vertex_properties[\"label\"] = node_labels\n",
    "    return H"
   ]
  },
  {
   "cell_type": "markdown",
   "metadata": {},
   "source": [
    "# Load a network and plot it"
   ]
  },
  {
   "cell_type": "code",
   "execution_count": null,
   "metadata": {
    "scrolled": false
   },
   "outputs": [],
   "source": [
    "G = loadNetwork(\"data/attack5.json\")\n",
    "toNet(G, \"data/attack5.net\")"
   ]
  },
  {
   "cell_type": "code",
   "execution_count": null,
   "metadata": {},
   "outputs": [],
   "source": [
    "plotNetwork(G)"
   ]
  },
  {
   "cell_type": "markdown",
   "metadata": {},
   "source": [
    "# Convert it and infer nested block structure with degree correction"
   ]
  },
  {
   "cell_type": "code",
   "execution_count": null,
   "metadata": {},
   "outputs": [],
   "source": [
    "H = toGraphTool(G)"
   ]
  },
  {
   "cell_type": "code",
   "execution_count": null,
   "metadata": {},
   "outputs": [],
   "source": [
    "s = minimize_nested_blockmodel_dl(H, deg_corr=True)"
   ]
  },
  {
   "cell_type": "code",
   "execution_count": null,
   "metadata": {},
   "outputs": [],
   "source": [
    "s.draw(vertex_text=H.vertex_properties['label'], output_size=(1024,1024))"
   ]
  },
  {
   "cell_type": "markdown",
   "metadata": {},
   "source": [
    "# Find communities with Infomap"
   ]
  },
  {
   "cell_type": "code",
   "execution_count": null,
   "metadata": {},
   "outputs": [],
   "source": [
    "bestModules = dict()\n",
    "bestCodelength = inf\n",
    "\n",
    "for i in range(1000):\n",
    "    im = Infomap(\"--silent\")\n",
    "    for u,v in G.edges:\n",
    "        im.addLink(u,v,G[u][v][\"weight\"])\n",
    "    for n in G.nodes:\n",
    "        im.addNode(n)\n",
    "    \n",
    "    im.run()\n",
    "    if im.getCodelength() < bestCodelength:\n",
    "        bestCodelength = im.getCodelength()\n",
    "        bestModules = im.getMultilevelModules()"
   ]
  }
 ],
 "metadata": {
  "kernelspec": {
   "display_name": "Python 3",
   "language": "python",
   "name": "python3"
  },
  "language_info": {
   "codemirror_mode": {
    "name": "ipython",
    "version": 3
   },
   "file_extension": ".py",
   "mimetype": "text/x-python",
   "name": "python",
   "nbconvert_exporter": "python",
   "pygments_lexer": "ipython3",
   "version": "3.6.9"
  }
 },
 "nbformat": 4,
 "nbformat_minor": 2
}
